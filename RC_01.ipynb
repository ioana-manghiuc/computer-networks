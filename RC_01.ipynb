{
 "cells": [
  {
   "cell_type": "markdown",
   "metadata": {},
   "source": [
    "# *Retele de calculatoare - Tema 1*"
   ]
  },
  {
   "cell_type": "markdown",
   "metadata": {},
   "source": [
    " # **Biti de paritate bidimensionala**"
   ]
  },
  {
   "cell_type": "code",
   "execution_count": 100,
   "metadata": {},
   "outputs": [],
   "source": [
    "import math\n",
    "import numpy as np\n",
    "from numpy import ndarray\n",
    "import random"
   ]
  },
  {
   "cell_type": "markdown",
   "metadata": {},
   "source": [
    "1.\tSe introduce de la tastatura un sir format dintr-un numar multiplu de 7 caractere binare (Se vor face verificari in acest sens). "
   ]
  },
  {
   "cell_type": "code",
   "execution_count": 101,
   "metadata": {},
   "outputs": [
    {
     "name": "stdout",
     "output_type": "stream",
     "text": [
      "Valid input.\n",
      "10101110101110\n"
     ]
    }
   ],
   "source": [
    "#first remove zeros from the beginning of the message if they exist, then check for 7\n",
    "def binary_characters(input_str: str) -> bool:\n",
    "    return all(char == '0' or char == '1' for char in input_str)\n",
    "\n",
    "def validate_input(input_str: str) -> bool:\n",
    "    return len(input_str) % 7 == 0 and binary_characters(input_str)\n",
    "\n",
    "message_str: str = '10101110101110'\n",
    "ok: bool = False\n",
    "\n",
    "while not ok:\n",
    "    if not validate_input(message_str):\n",
    "        new_message = input(\"Invalid input\\nEnter new message: \")\n",
    "        message_str = new_message\n",
    "    else:\n",
    "        print(\"Valid input.\")\n",
    "        print(message_str)\n",
    "        ok = True"
   ]
  },
  {
   "cell_type": "markdown",
   "metadata": {},
   "source": [
    "2.\tMesajul va fi pozitionat intr-o matrice cu 7 coloane si numar de linii variabil (in functie de lungimea mesajului introdus)."
   ]
  },
  {
   "cell_type": "code",
   "execution_count": 102,
   "metadata": {},
   "outputs": [
    {
     "name": "stdout",
     "output_type": "stream",
     "text": [
      "[[1 0 1 0 1 1 1]\n",
      " [0 1 0 1 1 1 0]]\n"
     ]
    }
   ],
   "source": [
    "def convert_input_to_matrix(message: str) -> ndarray:\n",
    "    if validate_input(message) is False:\n",
    "        raise ValueError(\"Invalid message length.\")\n",
    "    else:\n",
    "        mat = np.array(list(message),  dtype=int).reshape(len(message)//7, 7)\n",
    "        return mat\n",
    "\n",
    "message:ndarray = convert_input_to_matrix(message_str)\n",
    "print(message)"
   ]
  },
  {
   "cell_type": "markdown",
   "metadata": {},
   "source": [
    "3.\tSe vor calcula bitii de paritate pe fiecare linie si fiecare coloana astfel:\n",
    "-\tpentru  numar par de 1 pe o linie/coloana  se va adauga un 0 pe ultima coloana/linie;\n",
    "-\tpentru un numar impar de 1 se va adauga un 1;\n",
    "-\tbitul semnificativ este bitul din coltul dreapta-jos al matricei.\n",
    "\n",
    "4.\tSe va afisa matricea rezultata."
   ]
  },
  {
   "cell_type": "code",
   "execution_count": 103,
   "metadata": {},
   "outputs": [
    {
     "name": "stdout",
     "output_type": "stream",
     "text": [
      "[[1 0 1 0 1 1 1 1]\n",
      " [0 1 0 1 1 1 0 0]\n",
      " [1 1 1 1 0 0 1 1]]\n"
     ]
    }
   ],
   "source": [
    "# new line has parity bits\n",
    "def count_ones(array:ndarray) -> int:\n",
    "    return np.sum(array == 1)\n",
    "\n",
    "def sent_message_matrix(message:ndarray) -> ndarray:\n",
    "    new_mat = np.zeros((message.shape[0] + 1, message.shape[1] + 1), dtype=int)\n",
    "    new_mat[:-1, :-1] = message\n",
    "    new_mat[-1, :-1] = new_mat[:-1, :-1].sum(axis=0) % 2\n",
    "    new_mat[:, -1] = np.sum(new_mat[:, :-1], axis=1) % 2\n",
    "    return new_mat\n",
    "\n",
    "n_message:ndarray = sent_message_matrix(message)\n",
    "print(n_message)"
   ]
  },
  {
   "cell_type": "markdown",
   "metadata": {},
   "source": [
    "5.\tSe va simula coruperea mesajului prin generarea aleatoare a unei pozitii a unui caracter binar al mesajului. In functie de pozitia generata, se va modifica bitul de pe acea pozitie. "
   ]
  },
  {
   "cell_type": "code",
   "execution_count": 104,
   "metadata": {},
   "outputs": [
    {
     "name": "stdout",
     "output_type": "stream",
     "text": [
      "Corrupted Position: (1, 0)\n",
      "[[1 0 1 0 1 1 1 1]\n",
      " [1 1 0 1 1 1 0 0]\n",
      " [1 1 1 1 0 0 1 1]]\n"
     ]
    }
   ],
   "source": [
    "def corrupt_message(message:ndarray) -> ndarray:\n",
    "    rows, cols = message.shape\n",
    "    row, col = random.randint(0, rows - 2), random.randint(0, cols - 2)\n",
    "    print(\"Corrupted Position:\", (row, col))\n",
    "    \n",
    "    if(message[row,col] == 1):\n",
    "        message[row,col] = 0\n",
    "    else:\n",
    "        message[row,col] = 1\n",
    "    \n",
    "    return message\n",
    "\n",
    "corrupt_message(n_message)\n",
    "print(n_message)\n",
    "\n",
    "#then a function to check a matrix using the parity bits"
   ]
  },
  {
   "cell_type": "markdown",
   "metadata": {},
   "source": [
    "6.\tDestinatia va reface calculul bitilor de paritate bidimensionala si va identifica bitul corupt.\n",
    "7.\tDestinatia va afisa apoi pozitia corupta."
   ]
  },
  {
   "cell_type": "code",
   "execution_count": null,
   "metadata": {},
   "outputs": [],
   "source": []
  },
  {
   "cell_type": "markdown",
   "metadata": {},
   "source": [
    "# **CRC (Cyclic Redundancy Check)**"
   ]
  },
  {
   "cell_type": "markdown",
   "metadata": {},
   "source": [
    "1.\tSe introduce de la tastatura un sir de caractere binare si un polinom generator (cu coeficienti 0 si 1)."
   ]
  },
  {
   "cell_type": "code",
   "execution_count": null,
   "metadata": {},
   "outputs": [],
   "source": []
  },
  {
   "cell_type": "markdown",
   "metadata": {},
   "source": [
    "2.\tSe fac urmatoarele verificari: sirurile sa fie binare si lungimea mesajului sa fie mai mare decat numarul de coeficienti ai polinomului generator."
   ]
  },
  {
   "cell_type": "code",
   "execution_count": null,
   "metadata": {},
   "outputs": [],
   "source": []
  },
  {
   "cell_type": "markdown",
   "metadata": {},
   "source": [
    "3.\tSe extinde mesajul cu un numar de 0-uri egal cu gradul polinomului introdus."
   ]
  },
  {
   "cell_type": "code",
   "execution_count": null,
   "metadata": {},
   "outputs": [],
   "source": []
  },
  {
   "cell_type": "markdown",
   "metadata": {},
   "source": [
    "4.\tSe efectueaza succesiv operatii de XOR intre mesajul extins si coeficientii polinomului pana cand lungimea restului obtinut este strict mai mica decat lungimea sirului de coeficienti.\n",
    "5.\tSe vor afisa rezultatele intermediare ale operatiei de XOR."
   ]
  },
  {
   "cell_type": "code",
   "execution_count": null,
   "metadata": {},
   "outputs": [],
   "source": []
  },
  {
   "cell_type": "markdown",
   "metadata": {},
   "source": [
    "6.\tSe executa iarasi operatia de sau exclusiv intre mesajul extins si restul final obtinut, dar pozitionarea restului se va face sub finalul mesajului extins. \n",
    "7.\tAcest rezultat se va afisa."
   ]
  },
  {
   "cell_type": "code",
   "execution_count": null,
   "metadata": {},
   "outputs": [],
   "source": []
  }
 ],
 "metadata": {
  "kernelspec": {
   "display_name": "Python 3",
   "language": "python",
   "name": "python3"
  },
  "language_info": {
   "codemirror_mode": {
    "name": "ipython",
    "version": 3
   },
   "file_extension": ".py",
   "mimetype": "text/x-python",
   "name": "python",
   "nbconvert_exporter": "python",
   "pygments_lexer": "ipython3",
   "version": "3.11.5"
  }
 },
 "nbformat": 4,
 "nbformat_minor": 2
}
