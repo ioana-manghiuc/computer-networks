{
 "cells": [
  {
   "cell_type": "markdown",
   "metadata": {},
   "source": [
    " # **Two-Dimensional Parity Checking**"
   ]
  },
  {
   "cell_type": "code",
   "execution_count": 283,
   "metadata": {},
   "outputs": [],
   "source": [
    "import numpy as np\n",
    "from numpy import ndarray\n",
    "import random"
   ]
  },
  {
   "cell_type": "markdown",
   "metadata": {},
   "source": [
    "Input (from keyboard) will be a string containing binary characters (input will be validated, and the length of the string must be a multiple of 7)."
   ]
  },
  {
   "cell_type": "code",
   "execution_count": 284,
   "metadata": {},
   "outputs": [
    {
     "name": "stdout",
     "output_type": "stream",
     "text": [
      "Valid input.\n",
      "10101110101110\n"
     ]
    }
   ],
   "source": [
    "def remove_first_zeros(input_str:str) -> str:\n",
    "    if input_str.startswith('0'):\n",
    "        return input_str.lstrip('0')\n",
    "    else:\n",
    "        return input_str\n",
    "\n",
    "def binary_characters(input_str: str) -> bool:\n",
    "    return all(char in '01' for char in input_str)\n",
    "\n",
    "def validate_input(input_str: str) -> bool:\n",
    "    return len(input_str) % 7 == 0 and binary_characters(input_str)\n",
    "\n",
    "message_str: str = '10101110101110'\n",
    "#message_str = input(\"Enter message:\")\n",
    "message_str = remove_first_zeros(message_str)\n",
    "ok: bool = False\n",
    "\n",
    "while not ok:\n",
    "    if not validate_input(message_str):\n",
    "        new_message = input(\"Invalid input\\nEnter new message: \")\n",
    "        message_str = new_message\n",
    "    else:\n",
    "        print(\"Valid input.\")\n",
    "        print(message_str)\n",
    "        ok = True"
   ]
  },
  {
   "cell_type": "markdown",
   "metadata": {},
   "source": [
    "The message will be converted into a matrix with 7 columns and a variable number of lines (depending on the length of the entered message)."
   ]
  },
  {
   "cell_type": "code",
   "execution_count": 285,
   "metadata": {},
   "outputs": [
    {
     "name": "stdout",
     "output_type": "stream",
     "text": [
      "[[1 0 1 0 1 1 1]\n",
      " [0 1 0 1 1 1 0]]\n"
     ]
    }
   ],
   "source": [
    "def convert_input_to_matrix(message: str, columns:int) -> ndarray:\n",
    "    if validate_input(message) is False:\n",
    "        raise ValueError(\"Invalid message length.\")\n",
    "    else:\n",
    "        mat = np.array(list(message),  dtype=int).reshape(len(message)//columns, columns)\n",
    "        return mat\n",
    "\n",
    "message:ndarray = convert_input_to_matrix(message_str, 7)\n",
    "print(message)"
   ]
  },
  {
   "cell_type": "markdown",
   "metadata": {},
   "source": [
    "Parity bits will be calculated on each line and each column as follows:\n",
    "- for an even number of 1 on a line/column, a 0 will be added on the last column/line;\n",
    "- for an odd number of 1, a 1 will be added;\n",
    "- the significant bit is the bit in the lower-right corner of the matrix.\n",
    "\n",
    "The resulting matrix will be displayed."
   ]
  },
  {
   "cell_type": "code",
   "execution_count": 286,
   "metadata": {},
   "outputs": [
    {
     "name": "stdout",
     "output_type": "stream",
     "text": [
      "[[1 0 1 0 1 1 1 1]\n",
      " [0 1 0 1 1 1 0 0]\n",
      " [1 1 1 1 0 0 1 1]]\n"
     ]
    }
   ],
   "source": [
    "def message_matrix(message:ndarray) -> ndarray:\n",
    "    new_mat = np.zeros((message.shape[0] + 1, message.shape[1] + 1), dtype=int)\n",
    "    new_mat[:-1, :-1] = message\n",
    "    new_mat[-1, :-1] = new_mat[:-1, :-1].sum(axis=0) % 2\n",
    "    new_mat[:, -1] = np.sum(new_mat[:, :-1], axis=1) % 2\n",
    "    return new_mat\n",
    "\n",
    "n_message:ndarray = message_matrix(message)\n",
    "print(n_message)"
   ]
  },
  {
   "cell_type": "markdown",
   "metadata": {},
   "source": [
    "Message corruption will be simulated by randomly generating a position of a binary character of the message. Depending on the generated position, the bit on that position will change."
   ]
  },
  {
   "cell_type": "code",
   "execution_count": 287,
   "metadata": {},
   "outputs": [
    {
     "name": "stdout",
     "output_type": "stream",
     "text": [
      "Corrupted Position: (1, 4)\n",
      "[[1 0 1 0 1 1 1 1]\n",
      " [0 1 0 1 0 1 0 0]\n",
      " [1 1 1 1 0 0 1 1]]\n"
     ]
    }
   ],
   "source": [
    "def corrupt_message(message:ndarray) -> ndarray:\n",
    "    rows, cols = message.shape\n",
    "    row, col = random.randint(0, rows - 2), random.randint(0, cols - 2)\n",
    "    print(\"Corrupted Position:\", (row, col))\n",
    "    \n",
    "    if(message[row,col] == 1):\n",
    "        message[row,col] = 0\n",
    "    else:\n",
    "        message[row,col] = 1\n",
    "    \n",
    "    return message\n",
    "\n",
    "corrupted_message = corrupt_message(n_message)\n",
    "print(corrupted_message)\n"
   ]
  },
  {
   "cell_type": "markdown",
   "metadata": {},
   "source": [
    "Identify the corrupted position using the two-dimensional parity check, and display the corrupted position"
   ]
  },
  {
   "cell_type": "code",
   "execution_count": 288,
   "metadata": {},
   "outputs": [
    {
     "name": "stdout",
     "output_type": "stream",
     "text": [
      "[[1 0 1 0 1 1 1 1]\n",
      " [0 1 0 1 1 1 0 0]\n",
      " [1 1 1 1 0 0 1 1]]\n",
      "No corrupted message detected.\n",
      "\n",
      "[[1 0 1 0 1 1 1 1]\n",
      " [0 1 0 1 0 1 0 0]\n",
      " [1 1 1 1 0 0 1 1]]\n",
      "Corrupted message detected at position: (1, 4) \n",
      "\n"
     ]
    }
   ],
   "source": [
    "def two_dimensional_parity_check(message: ndarray) -> tuple:\n",
    "    rows, cols = message.shape\n",
    "    row_index, col_index = None, None\n",
    "    \n",
    "    for row in range(rows - 1): # check for rows\n",
    "        row_ones = sum(message[row, :cols - 1])  \n",
    "        if row_ones % 2 != message[row, cols - 1]:  \n",
    "            row_index = row\n",
    "            break\n",
    "    \n",
    "    for col in range(cols - 1): # check for columns\n",
    "        col_ones = sum(message[:rows - 1, col]) \n",
    "        if col_ones % 2 != message[rows - 1, col]: \n",
    "            col_index = col\n",
    "            break\n",
    "    \n",
    "    return (row_index, col_index) if row_index is not None and col_index is not None else None\n",
    "\n",
    "def message_display(message:ndarray) -> None:\n",
    "    if(two_dimensional_parity_check(message)):\n",
    "        print(\"Corrupted message detected at position:\", two_dimensional_parity_check(message), \"\\n\")\n",
    "    else:\n",
    "        print(\"No corrupted message detected.\\n\")\n",
    "\n",
    "print(message_matrix(message))\n",
    "message_display(message_matrix(message))\n",
    "print(corrupted_message)\n",
    "message_display(corrupted_message)\n"
   ]
  },
  {
   "cell_type": "code",
   "execution_count": 289,
   "metadata": {},
   "outputs": [],
   "source": [
    "del message, message_str, n_message, corrupted_message"
   ]
  },
  {
   "cell_type": "markdown",
   "metadata": {},
   "source": [
    "# **CRC (Cyclic Redundancy Check)**"
   ]
  },
  {
   "cell_type": "markdown",
   "metadata": {},
   "source": [
    "1.\tSe introduce de la tastatura un sir de caractere binare si un polinom generator (cu coeficienti 0 si 1).\n",
    "2.\tSe fac urmatoarele verificari: sirurile sa fie binare si lungimea mesajului sa fie mai mare decat numarul de coeficienti ai polinomului generator."
   ]
  },
  {
   "cell_type": "code",
   "execution_count": 290,
   "metadata": {},
   "outputs": [
    {
     "name": "stdout",
     "output_type": "stream",
     "text": [
      "Valid input.\n",
      "Message: 10101110101110\n",
      "Polynomial: 1011\n"
     ]
    }
   ],
   "source": [
    "def get_binary_input(prompt):\n",
    "    while True:\n",
    "        user_input = input(prompt)\n",
    "        user_input = remove_first_zeros(user_input)\n",
    "        if binary_characters(user_input):\n",
    "            return user_input\n",
    "        else:\n",
    "            print(\"Invalid input. Please enter binary characters only.\")\n",
    "\n",
    "message_str = get_binary_input(\"Enter message: \")\n",
    "coefficients = get_binary_input(\"Enter Polynomial: \")\n",
    "\n",
    "while len(coefficients) >= len(message_str):\n",
    "    print(\"Polynomial length should be smaller than message length.\")\n",
    "    coefficients = get_binary_input(\"Enter Polynomial: \")\n",
    "\n",
    "print(\"Valid input.\")\n",
    "print(\"Message:\", message_str)\n",
    "print(\"Polynomial:\", coefficients)\n"
   ]
  },
  {
   "cell_type": "markdown",
   "metadata": {},
   "source": [
    "3.\tSe extinde mesajul cu un numar de 0-uri egal cu gradul polinomului introdus."
   ]
  },
  {
   "cell_type": "code",
   "execution_count": 291,
   "metadata": {},
   "outputs": [
    {
     "name": "stdout",
     "output_type": "stream",
     "text": [
      "10101110101110000\n"
     ]
    }
   ],
   "source": [
    "def get_degree_of_polynomial(input:str) -> int:\n",
    "    return len(input) - 1\n",
    "\n",
    "degree = get_degree_of_polynomial(coefficients)\n",
    "\n",
    "def extend_message(message:str, degree:int) -> str:\n",
    "    return message + '0' * degree\n",
    "\n",
    "message = extend_message(message_str, degree)\n",
    "print(message)"
   ]
  },
  {
   "cell_type": "markdown",
   "metadata": {},
   "source": [
    "4.\tSe efectueaza succesiv operatii de XOR intre mesajul extins si coeficientii polinomului pana cand lungimea restului obtinut este strict mai mica decat lungimea sirului de coeficienti.\n",
    "5.\tSe vor afisa rezultatele intermediare ale operatiei de XOR."
   ]
  },
  {
   "cell_type": "code",
   "execution_count": 292,
   "metadata": {},
   "outputs": [
    {
     "name": "stdout",
     "output_type": "stream",
     "text": [
      "00011110101110000\n",
      "11110101110000\n",
      "01000101110000\n",
      "1000101110000\n",
      "0011101110000\n",
      "11101110000\n",
      "01011110000\n",
      "1011110000\n",
      "0000110000\n",
      "110000\n",
      "011100\n",
      "11100\n",
      "01010\n",
      "1010\n",
      "0001\n",
      "1\n",
      "Final: 1\n"
     ]
    }
   ],
   "source": [
    "def XOR(first, second):\n",
    "    if first == \"0\" and second == \"1\":\n",
    "        return \"1\"\n",
    "    if first == \"1\" and second == \"0\":\n",
    "        return \"1\"\n",
    "    return \"0\"\n",
    "\n",
    "#  10101110101110\n",
    "    \n",
    "def compute_xor(message, coefficients, degree):\n",
    "    intermediate_results = [] \n",
    "    while len(message) >= len(coefficients):\n",
    "        xor_result = ''\n",
    "        for i in range(degree + 1):\n",
    "            xor_result += XOR(message[i], coefficients[i])\n",
    "        message = xor_result + message[degree + 1:]\n",
    "        intermediate_results.append(message) \n",
    "        message = remove_first_zeros(message)\n",
    "        intermediate_results.append(message)\n",
    "        if len(xor_result) < len(coefficients):\n",
    "            break\n",
    "    return xor_result, message, intermediate_results\n",
    "        \n",
    "message_c = message\n",
    "xor_result, remaining_message, intermediate_results = compute_xor(message_c, coefficients, degree)\n",
    "for result in intermediate_results:\n",
    "    print(result)\n",
    "print(\"Final:\", remaining_message)"
   ]
  },
  {
   "cell_type": "markdown",
   "metadata": {},
   "source": [
    "6.\tSe executa iarasi operatia de sau exclusiv intre mesajul extins si restul final obtinut, dar pozitionarea restului se va face sub finalul mesajului extins. \n",
    "7.\tAcest rezultat se va afisa."
   ]
  },
  {
   "cell_type": "code",
   "execution_count": null,
   "metadata": {},
   "outputs": [],
   "source": []
  }
 ],
 "metadata": {
  "kernelspec": {
   "display_name": "Python 3",
   "language": "python",
   "name": "python3"
  },
  "language_info": {
   "codemirror_mode": {
    "name": "ipython",
    "version": 3
   },
   "file_extension": ".py",
   "mimetype": "text/x-python",
   "name": "python",
   "nbconvert_exporter": "python",
   "pygments_lexer": "ipython3",
   "version": "3.11.7"
  }
 },
 "nbformat": 4,
 "nbformat_minor": 2
}
